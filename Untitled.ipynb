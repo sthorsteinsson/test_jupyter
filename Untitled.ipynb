{
 "cells": [
  {
   "cell_type": "code",
   "execution_count": 3,
   "metadata": {
    "collapsed": false
   },
   "outputs": [
    {
     "name": "stdout",
     "output_type": "stream",
     "text": [
      "0.501842348168\n",
      "0.246361620121\n",
      "0.47395916813\n",
      "0.279032872539\n",
      "0.149033046812\n",
      "0.144724825312\n",
      "0.181809665491\n",
      "0.23492390259\n",
      "0.0608493662104\n",
      "0.441940492664\n"
     ]
    },
    {
     "data": {
      "text/plain": [
       "0.37542689065813584"
      ]
     },
     "execution_count": 3,
     "metadata": {},
     "output_type": "execute_result"
    }
   ],
   "source": [
    "import random\n",
    "for i in range(10):\n",
    "    print random.random()\n",
    "    \n",
    "random.random()"
   ]
  },
  {
   "cell_type": "code",
   "execution_count": 4,
   "metadata": {
    "collapsed": false
   },
   "outputs": [
    {
     "name": "stdout",
     "output_type": "stream",
     "text": [
      "0.938526449374\n",
      "0.288097639151\n",
      "0.582720910199\n",
      "0.950283468408\n",
      "0.0616501240028\n",
      "0.799516586171\n",
      "0.500034873569\n",
      "0.83261180544\n",
      "0.552592116205\n",
      "0.543639004499\n"
     ]
    },
    {
     "data": {
      "text/plain": [
       "0.7757038273725488"
      ]
     },
     "execution_count": 4,
     "metadata": {},
     "output_type": "execute_result"
    }
   ],
   "source": [
    "import random\n",
    "for i in range(10):\n",
    "    print random.random()\n",
    "    \n",
    "random.random()"
   ]
  }
 ],
 "metadata": {
  "kernelspec": {
   "display_name": "Python 2",
   "language": "python",
   "name": "python2"
  },
  "language_info": {
   "codemirror_mode": {
    "name": "ipython",
    "version": 2
   },
   "file_extension": ".py",
   "mimetype": "text/x-python",
   "name": "python",
   "nbconvert_exporter": "python",
   "pygments_lexer": "ipython2",
   "version": "2.7.10"
  }
 },
 "nbformat": 4,
 "nbformat_minor": 0
}
